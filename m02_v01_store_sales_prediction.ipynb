{
  "nbformat": 4,
  "nbformat_minor": 0,
  "metadata": {
    "colab": {
      "name": "m02_v01_store_sales_prediction.ipynb",
      "provenance": [],
      "authorship_tag": "ABX9TyOSYKT3PuwEE/tfd6/rvu6D",
      "include_colab_link": true
    },
    "kernelspec": {
      "name": "python3",
      "display_name": "Python 3"
    },
    "language_info": {
      "name": "python"
    }
  },
  "cells": [
    {
      "cell_type": "markdown",
      "metadata": {
        "id": "view-in-github",
        "colab_type": "text"
      },
      "source": [
        "<a href=\"https://colab.research.google.com/github/Isaacostam/Data-Science-Em-Producao/blob/main/m02_v01_store_sales_prediction.ipynb\" target=\"_parent\"><img src=\"https://colab.research.google.com/assets/colab-badge.svg\" alt=\"Open In Colab\"/></a>"
      ]
    },
    {
      "cell_type": "markdown",
      "source": [
        "# 0.0 IMPORTS"
      ],
      "metadata": {
        "id": "XkOSjLY2pfv6"
      }
    },
    {
      "cell_type": "code",
      "source": [
        "import pandas as pd\n",
        "import inflection"
      ],
      "metadata": {
        "id": "BbPH6Tm0rCZM"
      },
      "execution_count": 19,
      "outputs": []
    },
    {
      "cell_type": "markdown",
      "source": [
        "##0.1 Helper Functions"
      ],
      "metadata": {
        "id": "wfS5HII9qB8a"
      }
    },
    {
      "cell_type": "markdown",
      "source": [
        "## 0.2 Loading data\n"
      ],
      "metadata": {
        "id": "Je3gMCJcqMFO"
      }
    },
    {
      "cell_type": "code",
      "source": [
        "df_sales_raw = pd.read_csv('https://raw.githubusercontent.com/Isaacostam/Data-Science-Em-Producao/main/Data/train.csv', low_memory=False)\n",
        "df_store_raw = pd.read_csv('https://raw.githubusercontent.com/Isaacostam/Data-Science-Em-Producao/main/Data/store.csv', low_memory=False)\n",
        "\n",
        "# merge\n",
        "df_raw = pd.merge (df_sales_raw, df_store_raw, how='left', on='Store' )\n"
      ],
      "metadata": {
        "id": "fAAmP62Dq1yW"
      },
      "execution_count": 11,
      "outputs": []
    },
    {
      "cell_type": "markdown",
      "source": [
        "# 1.0 DESCRICAO DOS DADOS\n"
      ],
      "metadata": {
        "id": "jkEK81wdpvmM"
      }
    },
    {
      "cell_type": "code",
      "source": [
        "df1 = df_raw.copy()"
      ],
      "metadata": {
        "id": "X3PaM0B9DMv5"
      },
      "execution_count": 14,
      "outputs": []
    },
    {
      "cell_type": "markdown",
      "source": [
        "## 1.1. Rename Columns"
      ],
      "metadata": {
        "id": "9Ys71J7SqfdZ"
      }
    },
    {
      "cell_type": "code",
      "source": [
        "cols_old = ['Store', 'DayOfWeek', 'Date', 'Sales', 'Customers', 'Open', 'Promo',\n",
        "       'StateHoliday', 'SchoolHoliday', 'StoreType', 'Assortment',\n",
        "       'CompetitionDistance', 'CompetitionOpenSinceMonth',\n",
        "       'CompetitionOpenSinceYear', 'Promo2', 'Promo2SinceWeek',\n",
        "       'Promo2SinceYear', 'PromoInterval']\n",
        "\n",
        "snakecase = lambda x: inflection.underscore( x )\n",
        "cols_new = list(map( snakecase, cols_old))\n",
        "\n",
        "#rename\n",
        "df1.columns = cols_new"
      ],
      "metadata": {
        "id": "v0bGF-RZDSFy"
      },
      "execution_count": 20,
      "outputs": []
    },
    {
      "cell_type": "markdown",
      "source": [
        "## 1.2. Data Dimensions "
      ],
      "metadata": {
        "id": "p1MtXCQlqfS3"
      }
    },
    {
      "cell_type": "code",
      "source": [
        "print( 'Number of Rows: {}'.format(df1.shape[0]))\n",
        "print( 'Number of Columns: {}'.format(df1.shape[1]))"
      ],
      "metadata": {
        "colab": {
          "base_uri": "https://localhost:8080/"
        },
        "id": "H-r2Hh5FFnFn",
        "outputId": "6aaa166e-eace-4eaf-cdb8-231e8411f439"
      },
      "execution_count": 22,
      "outputs": [
        {
          "output_type": "stream",
          "name": "stdout",
          "text": [
            "Number of Rows: 1017209\n",
            "Number of Columns: 18\n"
          ]
        }
      ]
    },
    {
      "cell_type": "markdown",
      "source": [
        "##1.3. Data Types"
      ],
      "metadata": {
        "id": "cxXPQTjXqfJr"
      }
    },
    {
      "cell_type": "code",
      "source": [
        "df1['date'] = pd.to_datetime(df1['date'])\n",
        "df1.dtypes"
      ],
      "metadata": {
        "colab": {
          "base_uri": "https://localhost:8080/"
        },
        "id": "Xc9UpnTkGGTX",
        "outputId": "53bbf140-e34c-4661-f962-f25fd6fdedb5"
      },
      "execution_count": 24,
      "outputs": [
        {
          "output_type": "execute_result",
          "data": {
            "text/plain": [
              "store                                    int64\n",
              "day_of_week                              int64\n",
              "date                            datetime64[ns]\n",
              "sales                                    int64\n",
              "customers                                int64\n",
              "open                                     int64\n",
              "promo                                    int64\n",
              "state_holiday                           object\n",
              "school_holiday                           int64\n",
              "store_type                              object\n",
              "assortment                              object\n",
              "competition_distance                   float64\n",
              "competition_open_since_month           float64\n",
              "competition_open_since_year            float64\n",
              "promo2                                   int64\n",
              "promo2_since_week                      float64\n",
              "promo2_since_year                      float64\n",
              "promo_interval                          object\n",
              "dtype: object"
            ]
          },
          "metadata": {},
          "execution_count": 24
        }
      ]
    },
    {
      "cell_type": "markdown",
      "source": [
        "## 1.4. Check NA "
      ],
      "metadata": {
        "id": "XpYRZdHTqe_9"
      }
    },
    {
      "cell_type": "code",
      "source": [
        "df1.isna().sum()"
      ],
      "metadata": {
        "colab": {
          "base_uri": "https://localhost:8080/"
        },
        "id": "6OKaRW-fGoAF",
        "outputId": "3469ff72-10b6-47db-c01c-b1c385533b07"
      },
      "execution_count": 25,
      "outputs": [
        {
          "output_type": "execute_result",
          "data": {
            "text/plain": [
              "store                                0\n",
              "day_of_week                          0\n",
              "date                                 0\n",
              "sales                                0\n",
              "customers                            0\n",
              "open                                 0\n",
              "promo                                0\n",
              "state_holiday                        0\n",
              "school_holiday                       0\n",
              "store_type                           0\n",
              "assortment                           0\n",
              "competition_distance              2642\n",
              "competition_open_since_month    323348\n",
              "competition_open_since_year     323348\n",
              "promo2                               0\n",
              "promo2_since_week               508031\n",
              "promo2_since_year               508031\n",
              "promo_interval                  508031\n",
              "dtype: int64"
            ]
          },
          "metadata": {},
          "execution_count": 25
        }
      ]
    },
    {
      "cell_type": "markdown",
      "source": [
        "##1.5"
      ],
      "metadata": {
        "id": "kB5xo6ckqe3C"
      }
    },
    {
      "cell_type": "markdown",
      "source": [
        "##1.6"
      ],
      "metadata": {
        "id": "BKmL1DP8qeqf"
      }
    },
    {
      "cell_type": "markdown",
      "source": [
        "##1.7\n"
      ],
      "metadata": {
        "id": "fusMBuR6qehD"
      }
    },
    {
      "cell_type": "markdown",
      "source": [
        "##1.8\n"
      ],
      "metadata": {
        "id": "Big2j-ssqd3n"
      }
    }
  ]
}