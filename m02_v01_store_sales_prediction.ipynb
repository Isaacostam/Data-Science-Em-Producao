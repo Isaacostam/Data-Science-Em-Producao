{
  "nbformat": 4,
  "nbformat_minor": 0,
  "metadata": {
    "colab": {
      "name": "m02_v01_store_sales_prediction.ipynb",
      "provenance": [],
      "authorship_tag": "ABX9TyOHq60H2hUTvLs/d/a6RCT7",
      "include_colab_link": true
    },
    "kernelspec": {
      "name": "python3",
      "display_name": "Python 3"
    },
    "language_info": {
      "name": "python"
    }
  },
  "cells": [
    {
      "cell_type": "markdown",
      "metadata": {
        "id": "view-in-github",
        "colab_type": "text"
      },
      "source": [
        "<a href=\"https://colab.research.google.com/github/Isaacostam/Data-Science-Em-Producao/blob/main/m02_v01_store_sales_prediction.ipynb\" target=\"_parent\"><img src=\"https://colab.research.google.com/assets/colab-badge.svg\" alt=\"Open In Colab\"/></a>"
      ]
    },
    {
      "cell_type": "markdown",
      "source": [
        "# 0.0 IMPORTS"
      ],
      "metadata": {
        "id": "XkOSjLY2pfv6"
      }
    },
    {
      "cell_type": "code",
      "source": [
        "import pandas as pd"
      ],
      "metadata": {
        "id": "BbPH6Tm0rCZM"
      },
      "execution_count": 1,
      "outputs": []
    },
    {
      "cell_type": "markdown",
      "source": [
        "##0.1 Helper Functions"
      ],
      "metadata": {
        "id": "wfS5HII9qB8a"
      }
    },
    {
      "cell_type": "markdown",
      "source": [
        "## 0.2 Loading data\n"
      ],
      "metadata": {
        "id": "Je3gMCJcqMFO"
      }
    },
    {
      "cell_type": "code",
      "source": [
        "df_sales_raw = pd.read_csv('Data/train.csv', low_memory=False)"
      ],
      "metadata": {
        "id": "fAAmP62Dq1yW"
      },
      "execution_count": 3,
      "outputs": []
    },
    {
      "cell_type": "code",
      "source": [
        ""
      ],
      "metadata": {
        "id": "u3rYHh2xrV2q"
      },
      "execution_count": 4,
      "outputs": []
    },
    {
      "cell_type": "markdown",
      "source": [
        "# 1.0 DESCRICAO DOS DADOS\n"
      ],
      "metadata": {
        "id": "jkEK81wdpvmM"
      }
    },
    {
      "cell_type": "markdown",
      "source": [
        "## 1.1"
      ],
      "metadata": {
        "id": "9Ys71J7SqfdZ"
      }
    },
    {
      "cell_type": "markdown",
      "source": [
        "## 1.2"
      ],
      "metadata": {
        "id": "p1MtXCQlqfS3"
      }
    },
    {
      "cell_type": "markdown",
      "source": [
        "##1.3"
      ],
      "metadata": {
        "id": "cxXPQTjXqfJr"
      }
    },
    {
      "cell_type": "markdown",
      "source": [
        "## 1.4 "
      ],
      "metadata": {
        "id": "XpYRZdHTqe_9"
      }
    },
    {
      "cell_type": "markdown",
      "source": [
        "##1.5"
      ],
      "metadata": {
        "id": "kB5xo6ckqe3C"
      }
    },
    {
      "cell_type": "markdown",
      "source": [
        "##1.6"
      ],
      "metadata": {
        "id": "BKmL1DP8qeqf"
      }
    },
    {
      "cell_type": "markdown",
      "source": [
        "##1.7\n"
      ],
      "metadata": {
        "id": "fusMBuR6qehD"
      }
    },
    {
      "cell_type": "markdown",
      "source": [
        "##1.8\n"
      ],
      "metadata": {
        "id": "Big2j-ssqd3n"
      }
    }
  ]
}