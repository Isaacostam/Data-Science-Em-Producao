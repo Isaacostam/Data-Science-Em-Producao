{
  "nbformat": 4,
  "nbformat_minor": 0,
  "metadata": {
    "colab": {
      "provenance": [],
      "authorship_tag": "ABX9TyMFk9ZZpXOcn7mkCW82KQa1",
      "include_colab_link": true
    },
    "kernelspec": {
      "name": "python3",
      "display_name": "Python 3"
    },
    "language_info": {
      "name": "python"
    }
  },
  "cells": [
    {
      "cell_type": "markdown",
      "metadata": {
        "id": "view-in-github",
        "colab_type": "text"
      },
      "source": [
        "<a href=\"https://colab.research.google.com/github/Isaacostam/Projeto-Data-Science-1/blob/main/Portifolio_%C3%93timo.ipynb\" target=\"_parent\"><img src=\"https://colab.research.google.com/assets/colab-badge.svg\" alt=\"Open In Colab\"/></a>"
      ]
    },
    {
      "cell_type": "code",
      "execution_count": 1,
      "metadata": {
        "id": "svM4gwvW4e_c"
      },
      "outputs": [],
      "source": [
        "#Importando as bibliotecas\n",
        "import pandas as pd\n",
        "import numpy as np"
      ]
    },
    {
      "cell_type": "code",
      "source": [
        "#carregadar os dados\n",
        "from google.colab import files\n",
        "files.upload()"
      ],
      "metadata": {
        "id": "enT8whhu4wX_"
      },
      "execution_count": null,
      "outputs": []
    },
    {
      "cell_type": "code",
      "source": [
        "#armazenar os dados no dataframe\n",
        "df = pd.read_csv('all_bovespa.csv', delimiter=';')"
      ],
      "metadata": {
        "id": "QoN3vqO_4wpV"
      },
      "execution_count": null,
      "outputs": []
    },
    {
      "cell_type": "code",
      "source": [
        "df"
      ],
      "metadata": {
        "id": "JDrKiEaE56ck"
      },
      "execution_count": null,
      "outputs": []
    },
    {
      "cell_type": "code",
      "source": [
        "#todos os códigos das empresas na bolsa brasileira"
      ],
      "metadata": {
        "id": "RsCzFkST4wsL"
      },
      "execution_count": null,
      "outputs": []
    },
    {
      "cell_type": "code",
      "source": [
        "df_bova = df.loc[df['sigla_acao'].isin(bova)]"
      ],
      "metadata": {
        "id": "v-Ul5hPt4wu_"
      },
      "execution_count": null,
      "outputs": []
    },
    {
      "cell_type": "code",
      "source": [
        "df_bova"
      ],
      "metadata": {
        "id": "FmF5pYES571i"
      },
      "execution_count": null,
      "outputs": []
    },
    {
      "cell_type": "code",
      "source": [
        "df_bova = df_bova.drop(['preco_abertura','preco_maximo','preco_minimo','qtd_negocios','volume_negocios'], 1)"
      ],
      "metadata": {
        "id": "AzCpv-t15_6u"
      },
      "execution_count": null,
      "outputs": []
    },
    {
      "cell_type": "code",
      "source": [
        "df_bova"
      ],
      "metadata": {
        "id": "T5DhOy-z5_33"
      },
      "execution_count": null,
      "outputs": []
    },
    {
      "cell_type": "code",
      "source": [
        "df_bova = pd.pivot_table(df_bova, index=['data_pregao'], columns=['nome_acao'], values=['preco_fechamento'])"
      ],
      "metadata": {
        "id": "XxMYVpYN5_1R"
      },
      "execution_count": null,
      "outputs": []
    },
    {
      "cell_type": "code",
      "source": [
        "df_bova"
      ],
      "metadata": {
        "id": "ACnQ5ZuX5_XU"
      },
      "execution_count": null,
      "outputs": []
    },
    {
      "cell_type": "code",
      "source": [
        "d2 = pd.DataFrame(df_bova.to_records())"
      ],
      "metadata": {
        "id": "AP7PrA7k5_Um"
      },
      "execution_count": null,
      "outputs": []
    },
    {
      "cell_type": "code",
      "source": [
        "d2.columns = d2.columns.str.replace(\"'preco_fechamento',\",\"\")\n",
        "d2.columns = d2.columns.str.replace(\"(\",\"\")\n",
        "d2.columns = d2.columns.str.replace(\")\",\"\")\n",
        "d2.columns = d2.columns.str.replace(\"'\",\"\")\n",
        "d2"
      ],
      "metadata": {
        "id": "V3MdA9fb5_Rw"
      },
      "execution_count": null,
      "outputs": []
    },
    {
      "cell_type": "code",
      "source": [
        "#ajuste do indice\n",
        "df2 = d2.set_index(pd.Datatime(d2['data_pregao'].values))"
      ],
      "metadata": {
        "id": "gFEjIwWMAhwh"
      },
      "execution_count": null,
      "outputs": []
    },
    {
      "cell_type": "code",
      "source": [
        "#remove data pregao\n",
        "df.drop(columns=['data_pregao'], axis=1, inplace=True)"
      ],
      "metadata": {
        "id": "Wdmf_ocUAhuG"
      },
      "execution_count": null,
      "outputs": []
    },
    {
      "cell_type": "code",
      "source": [
        "pip install PyPortfolioOpt"
      ],
      "metadata": {
        "id": "8zE4dTHSAhnK"
      },
      "execution_count": null,
      "outputs": []
    },
    {
      "cell_type": "code",
      "source": [
        "#importar os modulos\n",
        "from pypfopt.efficient_frontier import EfficienteFrontier\n",
        "from pypfopt import CovarianceShrinkage, risk_models, expected_returns, objective_functions"
      ],
      "metadata": {
        "id": "WYMlOi8_Ahkf"
      },
      "execution_count": null,
      "outputs": []
    },
    {
      "cell_type": "code",
      "source": [
        "#Calcular retorno anual e matriz de covariancia \n",
        "\n",
        "media = expected_returns.mean_historical_return(df2)\n",
        "\n",
        "conv = CovarianceShrinkage(df2).ledoit_wolf()"
      ],
      "metadata": {
        "id": "GY7OfnuL5_Fm"
      },
      "execution_count": null,
      "outputs": []
    },
    {
      "cell_type": "code",
      "source": [
        "#Calcular sharp ratio\n",
        "\n",
        "fronteira = EfficienteFrontier( media, conv)\n",
        "\n",
        "fronteira.add_objective(objective_functions.L2_reg, gamma =0.1)\n",
        "\n",
        "pesos = fronteira.max_sharpe()\n",
        "peso_ajustado = fronteira.clean_weights()\n",
        "\n",
        "print(peso_ajustado)"
      ],
      "metadata": {
        "id": "BkEC1oR9EDZx"
      },
      "execution_count": null,
      "outputs": []
    },
    {
      "cell_type": "code",
      "source": [
        "from pypfopt.discrete_allocation import DiscreteAllocation, get_latest_prices\n",
        "\n",
        "valor_alocar = 5000\n",
        "precos = get_latest_prices()\n",
        "ad = DiscreteAllocation(peso, precos, calor_alocar)\n",
        "\n",
        "alocacao, sobra = ad.lp_portfolio()\n",
        "\n",
        "print('Ações alocadas: ', alocacao)\n",
        "print('Sobra em caixa: ', sobra)"
      ],
      "metadata": {
        "id": "3JZATE3hEmJF"
      },
      "execution_count": null,
      "outputs": []
    }
  ]
}